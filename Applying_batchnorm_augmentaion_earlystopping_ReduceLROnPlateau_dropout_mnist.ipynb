{
  "nbformat": 4,
  "nbformat_minor": 0,
  "metadata": {
    "colab": {
      "name": "Copy of mnist_batchnorm_augmentaion_earlystopping_ReduceLROnPlateau_dropout",
      "provenance": []
    },
    "kernelspec": {
      "name": "python3",
      "display_name": "Python 3"
    },
    "accelerator": "GPU"
  },
  "cells": [
    {
      "cell_type": "markdown",
      "metadata": {
        "id": "-l0gUA1kgIv0"
      },
      "source": [
        "Importing Libraries\n",
        "\n"
      ]
    },
    {
      "cell_type": "code",
      "metadata": {
        "id": "GfsdITWdSa_E"
      },
      "source": [
        "import tensorflow as tf\n",
        "import matplotlib.pyplot as plt\n",
        "import numpy as np\n",
        "import pandas as pd\n",
        "from sklearn.model_selection import train_test_split\n",
        "from sklearn.preprocessing import OneHotEncoder\n",
        "from tensorflow.python.framework import ops\n",
        "from imgaug import augmenters as iaa\n",
        "\n",
        "\n",
        "\n"
      ],
      "execution_count": null,
      "outputs": []
    },
    {
      "cell_type": "markdown",
      "metadata": {
        "id": "iLN6nF6Cgf-o"
      },
      "source": [
        "Loading training and test set\n"
      ]
    },
    {
      "cell_type": "code",
      "metadata": {
        "id": "7UQPw_B6aukP"
      },
      "source": [
        "mnist = tf.keras.datasets.fashion_mnist\n",
        "(training_images, training_labels), (test_images, test_labels) = mnist.load_data()\n"
      ],
      "execution_count": null,
      "outputs": []
    },
    {
      "cell_type": "markdown",
      "metadata": {
        "id": "rCJWUmuChD-B"
      },
      "source": [
        "Normalizing data"
      ]
    },
    {
      "cell_type": "code",
      "metadata": {
        "id": "jXhE5VorhCne"
      },
      "source": [
        "training_images=training_images / 255.0\n",
        "test_images=test_images / 255.0"
      ],
      "execution_count": null,
      "outputs": []
    },
    {
      "cell_type": "markdown",
      "metadata": {
        "id": "SLLr4Htejs4C"
      },
      "source": [
        "Data description\n"
      ]
    },
    {
      "cell_type": "code",
      "metadata": {
        "id": "nqX8OlKLh6xY",
        "outputId": "dc7496e0-a898-40a9-b334-c8e9db147403",
        "colab": {
          "base_uri": "https://localhost:8080/",
          "height": 84
        }
      },
      "source": [
        "print(\"Total training example: \",training_images.shape[0])\n",
        "print(\"Total test example: \",test_images.shape[0])\n",
        "print(\"Shape of a image:\",training_images[0].shape)\n",
        "print(\"Total unique labels: \",len(np.unique(training_labels)))\n"
      ],
      "execution_count": null,
      "outputs": [
        {
          "output_type": "stream",
          "text": [
            "Total training example:  60000\n",
            "Total test example:  10000\n",
            "Shape of a image: (28, 28)\n",
            "Total unique labels:  10\n"
          ],
          "name": "stdout"
        }
      ]
    },
    {
      "cell_type": "markdown",
      "metadata": {
        "id": "MsJb6wox1enp"
      },
      "source": [
        "Dividing training set into train and validation set"
      ]
    },
    {
      "cell_type": "code",
      "metadata": {
        "id": "g4N2PLIxw8PE"
      },
      "source": [
        "train_images, validation_images, train_labels, validation_labels = train_test_split(training_images,\n",
        "                                                    training_labels,\n",
        "                                                    test_size=0.3,\n",
        "                                                    random_state=42)"
      ],
      "execution_count": null,
      "outputs": []
    },
    {
      "cell_type": "markdown",
      "metadata": {
        "id": "Ql7ERApmAaex"
      },
      "source": [
        "One hot encoding"
      ]
    },
    {
      "cell_type": "code",
      "metadata": {
        "id": "Cl6ROqbjAZBn"
      },
      "source": [
        "enc = OneHotEncoder()\n",
        "train_labels_transformed=enc.fit_transform(np.transpose(train_labels.reshape(1,len(train_labels)))).toarray()\n",
        "validation_labels_transformed=enc.fit_transform(np.transpose(validation_labels.reshape(1,len(validation_labels)))).toarray()\n",
        "test_labels_transformed=enc.fit_transform(np.transpose(test_labels.reshape(1,len(test_labels)))).toarray()"
      ],
      "execution_count": null,
      "outputs": []
    },
    {
      "cell_type": "markdown",
      "metadata": {
        "id": "yoARVc74hbmD"
      },
      "source": [
        "Visualizing images\n"
      ]
    },
    {
      "cell_type": "code",
      "metadata": {
        "id": "cmTps1z_WiX6",
        "outputId": "17020f6b-7258-4738-867d-f7d1825cd78f",
        "colab": {
          "base_uri": "https://localhost:8080/",
          "height": 592
        }
      },
      "source": [
        "import matplotlib.pyplot as plt\n",
        "fig,a =  plt.subplots(3,6,squeeze=False,figsize=(20,10))\n",
        "k=1\n",
        "for i in range(0,3):\n",
        "  for j in range(0,6):\n",
        "    a[i][j].imshow(training_images[k])\n",
        "    k+=1"
      ],
      "execution_count": null,
      "outputs": [
        {
          "output_type": "display_data",
          "data": {
            "image/png": "[encoded data removed]",
            "text/plain": [
              "<Figure size 1440x720 with 18 Axes>"
            ]
          },
          "metadata": {
            "tags": [],
            "needs_background": "light"
          }
        }
      ]
    },
    {
      "cell_type": "markdown",
      "metadata": {
        "id": "r1IctcCdbHjs"
      },
      "source": [
        "Data augmentation pipeline"
      ]
    },
    {
      "cell_type": "code",
      "metadata": {
        "id": "2YBaOgadbH5s"
      },
      "source": [
        "def augment_data(x,y):\n",
        "\n",
        "  \n",
        "  seq_crop = iaa.Sequential([\n",
        "      iaa.Crop(percent=(0.1, 0.1)) \n",
        "      \n",
        "  ])\n",
        "\n",
        "\n",
        "  seq_rot = iaa.Sequential([\n",
        "      iaa.Affine(\n",
        "          scale={\"x\": (0.8, 1.2), \"y\": (0.8, 1.2)},\n",
        "          translate_percent={\"x\": (-0.2, 0.2), \"y\": (-0.2, 0.2)},\n",
        "          rotate=(-25, 25),\n",
        "          shear=(-8, 8)  )                     \n",
        "      \n",
        "  ])\n",
        "\n",
        "  seq_flip = iaa.Sequential([\n",
        "      iaa.Fliplr(1.0)                   \n",
        "  ])\n",
        "\n",
        "  return np.concatenate((seq_crop(images=x),seq_rot(images=x),seq_flip(images=x)),axis=0),np.concatenate((y,y,y),axis=0)\n"
      ],
      "execution_count": null,
      "outputs": []
    },
    {
      "cell_type": "markdown",
      "metadata": {
        "id": "uF8abOED7dnw"
      },
      "source": [
        "Reshaping Data for input in CNN"
      ]
    },
    {
      "cell_type": "code",
      "metadata": {
        "id": "x-DwH-0EffSO"
      },
      "source": [
        "train_images=train_images.reshape(train_images.shape[0], 28, 28,1)\n",
        "validation_images=validation_images.reshape(validation_images.shape[0], 28, 28,1)\n",
        "test_images=test_images.reshape(test_images.shape[0], 28, 28,1)"
      ],
      "execution_count": null,
      "outputs": []
    },
    {
      "cell_type": "markdown",
      "metadata": {
        "id": "_Xi9Q0RMfHvD"
      },
      "source": [
        "Model"
      ]
    },
    {
      "cell_type": "code",
      "metadata": {
        "id": "owJ7ix_qckYf"
      },
      "source": [
        "model = tf.keras.models.Sequential([\n",
        "    # Note the input shape is the desired size of the image 150x150 with 3 bytes color\n",
        "    # This is the first convolution\n",
        "    tf.keras.layers.InputLayer(input_shape=(28, 28, 1)),\n",
        "    #tf.keras.layers.BatchNormalization(),\n",
        "    tf.keras.layers.Conv2D(8, (2,2), activation='relu',padding='same'),\n",
        "    tf.keras.layers.BatchNormalization(),\n",
        "    tf.keras.layers.MaxPooling2D(2, 2),\n",
        "    tf.keras.layers.Dropout(0.3),\n",
        "    \n",
        "    # The second convolution\n",
        "    tf.keras.layers.Conv2D(16, (2,2), activation='relu',padding='same'),\n",
        "    tf.keras.layers.BatchNormalization(),\n",
        "    #tf.keras.layers.MaxPooling2D(2,2),\n",
        "    tf.keras.layers.Dropout(0.3),\n",
        "    # The third convolution\n",
        "    tf.keras.layers.Conv2D(16, (2,2), activation='relu',padding='same'),\n",
        "    tf.keras.layers.BatchNormalization(),\n",
        "    tf.keras.layers.MaxPooling2D(2,2),\n",
        "    tf.keras.layers.Dropout(0.3),\n",
        "    # Flatten the results to feed into a DNN\n",
        "    tf.keras.layers.Flatten(),\n",
        "    # 784 neuron hidden layer\n",
        "    tf.keras.layers.Dense(784, activation='relu'),\n",
        "    tf.keras.layers.BatchNormalization(),\n",
        "    tf.keras.layers.Dropout(0.3),\n",
        "\n",
        "    tf.keras.layers.Dense(256, activation='relu'),\n",
        "    tf.keras.layers.BatchNormalization(),\n",
        "    tf.keras.layers.Dropout(0.3),\n",
        "\n",
        "    tf.keras.layers.Dense(128, activation='relu'),\n",
        "    tf.keras.layers.BatchNormalization(),\n",
        "    tf.keras.layers.Dropout(0.3),\n",
        "    # Only 1 output neuron. It will contain a value from 0-1 where 0 for 1 class ('horses') and 1 for the other ('humans')\n",
        "    tf.keras.layers.Dense(10, activation='softmax')\n",
        "])"
      ],
      "execution_count": null,
      "outputs": []
    },
    {
      "cell_type": "code",
      "metadata": {
        "id": "oG1bu0xHckoa"
      },
      "source": [
        "from tensorflow.keras.optimizers import Adam\n",
        "\n",
        "model.compile(loss='categorical_crossentropy', optimizer=tf.optimizers.Adam(), metrics=['accuracy'])"
      ],
      "execution_count": null,
      "outputs": []
    },
    {
      "cell_type": "code",
      "metadata": {
        "id": "_ixo_gsKcksR",
        "outputId": "09ccdfa8-d5b1-4dc8-c2d8-74fea63326aa",
        "colab": {
          "base_uri": "https://localhost:8080/",
          "height": 890
        }
      },
      "source": [
        "model.summary()"
      ],
      "execution_count": null,
      "outputs": [
        {
          "output_type": "stream",
          "text": [
            "Model: \"sequential_3\"\n",
            "_________________________________________________________________\n",
            "Layer (type)                 Output Shape              Param #   \n",
            "=================================================================\n",
            "conv2d_9 (Conv2D)            (None, 28, 28, 8)         40        \n",
            "_________________________________________________________________\n",
            "batch_normalization_18 (Batc (None, 28, 28, 8)         32        \n",
            "_________________________________________________________________\n",
            "max_pooling2d_6 (MaxPooling2 (None, 14, 14, 8)         0         \n",
            "_________________________________________________________________\n",
            "dropout_18 (Dropout)         (None, 14, 14, 8)         0         \n",
            "_________________________________________________________________\n",
            "conv2d_10 (Conv2D)           (None, 14, 14, 16)        528       \n",
            "_________________________________________________________________\n",
            "batch_normalization_19 (Batc (None, 14, 14, 16)        64        \n",
            "_________________________________________________________________\n",
            "dropout_19 (Dropout)         (None, 14, 14, 16)        0         \n",
            "_________________________________________________________________\n",
            "conv2d_11 (Conv2D)           (None, 14, 14, 16)        1040      \n",
            "_________________________________________________________________\n",
            "batch_normalization_20 (Batc (None, 14, 14, 16)        64        \n",
            "_________________________________________________________________\n",
            "max_pooling2d_7 (MaxPooling2 (None, 7, 7, 16)          0         \n",
            "_________________________________________________________________\n",
            "dropout_20 (Dropout)         (None, 7, 7, 16)          0         \n",
            "_________________________________________________________________\n",
            "flatten_3 (Flatten)          (None, 784)               0         \n",
            "_________________________________________________________________\n",
            "dense_12 (Dense)             (None, 784)               615440    \n",
            "_________________________________________________________________\n",
            "batch_normalization_21 (Batc (None, 784)               3136      \n",
            "_________________________________________________________________\n",
            "dropout_21 (Dropout)         (None, 784)               0         \n",
            "_________________________________________________________________\n",
            "dense_13 (Dense)             (None, 256)               200960    \n",
            "_________________________________________________________________\n",
            "batch_normalization_22 (Batc (None, 256)               1024      \n",
            "_________________________________________________________________\n",
            "dropout_22 (Dropout)         (None, 256)               0         \n",
            "_________________________________________________________________\n",
            "dense_14 (Dense)             (None, 128)               32896     \n",
            "_________________________________________________________________\n",
            "batch_normalization_23 (Batc (None, 128)               512       \n",
            "_________________________________________________________________\n",
            "dropout_23 (Dropout)         (None, 128)               0         \n",
            "_________________________________________________________________\n",
            "dense_15 (Dense)             (None, 10)                1290      \n",
            "=================================================================\n",
            "Total params: 857,026\n",
            "Trainable params: 854,610\n",
            "Non-trainable params: 2,416\n",
            "_________________________________________________________________\n"
          ],
          "name": "stdout"
        }
      ]
    },
    {
      "cell_type": "markdown",
      "metadata": {
        "id": "c_qsTRa74pii"
      },
      "source": [
        "With early stopping and ReduceLROnPlateau( learning rate reduction )"
      ]
    },
    {
      "cell_type": "code",
      "metadata": {
        "id": "mT3HFWKyzlCW",
        "outputId": "e1227cd9-6529-450c-aa7b-7c4ae90d68ad",
        "colab": {
          "base_uri": "https://localhost:8080/",
          "height": 1000
        }
      },
      "source": [
        "early_stop = tf.keras.callbacks.EarlyStopping(monitor='val_accuracy', min_delta=0, patience=10, verbose=1)\n",
        "\n",
        "learning_rate_reduction = tf.keras.callbacks.ReduceLROnPlateau(monitor='val_accuracy', \n",
        "                                            patience=5, \n",
        "                                            verbose=1, \n",
        "                                            factor=0.5, \n",
        "                                            min_lr=0)\n",
        "\n",
        "\n",
        "batch_size = 250\n",
        "num_epochs = 150\n",
        "iterations = 5   \n",
        "\n",
        "\n",
        "history1 = model.fit(\n",
        "        train_images , train_labels_transformed,\n",
        "        batch_size=batch_size,\n",
        "        epochs=num_epochs,\n",
        "        verbose=1,\n",
        "        validation_data=(validation_images, validation_labels_transformed),\n",
        "        callbacks=[early_stop,learning_rate_reduction]\n",
        "        \n",
        "    )"
      ],
      "execution_count": null,
      "outputs": [
        {
          "output_type": "stream",
          "text": [
            "Epoch 1/150\n",
            "168/168 [==============================] - 2s 9ms/step - loss: 0.8905 - accuracy: 0.6788 - val_loss: 2.0044 - val_accuracy: 0.4281\n",
            "Epoch 2/150\n",
            "168/168 [==============================] - 1s 7ms/step - loss: 0.5757 - accuracy: 0.7831 - val_loss: 1.1812 - val_accuracy: 0.5741\n",
            "Epoch 3/150\n",
            "168/168 [==============================] - 1s 7ms/step - loss: 0.4972 - accuracy: 0.8146 - val_loss: 0.5899 - val_accuracy: 0.7807\n",
            "Epoch 4/150\n",
            "168/168 [==============================] - 1s 7ms/step - loss: 0.4517 - accuracy: 0.8315 - val_loss: 0.4135 - val_accuracy: 0.8477\n",
            "Epoch 5/150\n",
            "168/168 [==============================] - 1s 7ms/step - loss: 0.4208 - accuracy: 0.8466 - val_loss: 0.3642 - val_accuracy: 0.8651\n",
            "Epoch 6/150\n",
            "168/168 [==============================] - 1s 7ms/step - loss: 0.4005 - accuracy: 0.8533 - val_loss: 0.3467 - val_accuracy: 0.8704\n",
            "Epoch 7/150\n",
            "168/168 [==============================] - 1s 7ms/step - loss: 0.3814 - accuracy: 0.8580 - val_loss: 0.3365 - val_accuracy: 0.8752\n",
            "Epoch 8/150\n",
            "168/168 [==============================] - 1s 7ms/step - loss: 0.3670 - accuracy: 0.8632 - val_loss: 0.2966 - val_accuracy: 0.8889\n",
            "Epoch 9/150\n",
            "168/168 [==============================] - 1s 7ms/step - loss: 0.3621 - accuracy: 0.8686 - val_loss: 0.3090 - val_accuracy: 0.8872\n",
            "Epoch 10/150\n",
            "168/168 [==============================] - 1s 7ms/step - loss: 0.3458 - accuracy: 0.8717 - val_loss: 0.2965 - val_accuracy: 0.8893\n",
            "Epoch 11/150\n",
            "168/168 [==============================] - 1s 7ms/step - loss: 0.3387 - accuracy: 0.8758 - val_loss: 0.3481 - val_accuracy: 0.8683\n",
            "Epoch 12/150\n",
            "168/168 [==============================] - 1s 7ms/step - loss: 0.3316 - accuracy: 0.8770 - val_loss: 0.2774 - val_accuracy: 0.8978\n",
            "Epoch 13/150\n",
            "168/168 [==============================] - 1s 7ms/step - loss: 0.3225 - accuracy: 0.8784 - val_loss: 0.2972 - val_accuracy: 0.8879\n",
            "Epoch 14/150\n",
            "168/168 [==============================] - 1s 7ms/step - loss: 0.3205 - accuracy: 0.8794 - val_loss: 0.2847 - val_accuracy: 0.8956\n",
            "Epoch 15/150\n",
            "168/168 [==============================] - 1s 7ms/step - loss: 0.3139 - accuracy: 0.8852 - val_loss: 0.2776 - val_accuracy: 0.8974\n",
            "Epoch 16/150\n",
            "168/168 [==============================] - 1s 7ms/step - loss: 0.3081 - accuracy: 0.8856 - val_loss: 0.2814 - val_accuracy: 0.8989\n",
            "Epoch 17/150\n",
            "168/168 [==============================] - 1s 7ms/step - loss: 0.3009 - accuracy: 0.8885 - val_loss: 0.2791 - val_accuracy: 0.8968\n",
            "Epoch 18/150\n",
            "168/168 [==============================] - 1s 8ms/step - loss: 0.3017 - accuracy: 0.8886 - val_loss: 0.2637 - val_accuracy: 0.9035\n",
            "Epoch 19/150\n",
            "168/168 [==============================] - 1s 8ms/step - loss: 0.2957 - accuracy: 0.8907 - val_loss: 0.2605 - val_accuracy: 0.9053\n",
            "Epoch 20/150\n",
            "168/168 [==============================] - 1s 8ms/step - loss: 0.2894 - accuracy: 0.8924 - val_loss: 0.2481 - val_accuracy: 0.9080\n",
            "Epoch 21/150\n",
            "168/168 [==============================] - 1s 8ms/step - loss: 0.2889 - accuracy: 0.8931 - val_loss: 0.2565 - val_accuracy: 0.9072\n",
            "Epoch 22/150\n",
            "168/168 [==============================] - 1s 8ms/step - loss: 0.2865 - accuracy: 0.8940 - val_loss: 0.2569 - val_accuracy: 0.9077\n",
            "Epoch 23/150\n",
            "168/168 [==============================] - 1s 8ms/step - loss: 0.2819 - accuracy: 0.8954 - val_loss: 0.2470 - val_accuracy: 0.9111\n",
            "Epoch 24/150\n",
            "168/168 [==============================] - 1s 8ms/step - loss: 0.2783 - accuracy: 0.8966 - val_loss: 0.2475 - val_accuracy: 0.9100\n",
            "Epoch 25/150\n",
            "168/168 [==============================] - 1s 8ms/step - loss: 0.2759 - accuracy: 0.8977 - val_loss: 0.2434 - val_accuracy: 0.9096\n",
            "Epoch 26/150\n",
            "168/168 [==============================] - 1s 7ms/step - loss: 0.2683 - accuracy: 0.9007 - val_loss: 0.2509 - val_accuracy: 0.9108\n",
            "Epoch 27/150\n",
            "168/168 [==============================] - 1s 7ms/step - loss: 0.2717 - accuracy: 0.8994 - val_loss: 0.2477 - val_accuracy: 0.9105\n",
            "Epoch 28/150\n",
            "168/168 [==============================] - 1s 7ms/step - loss: 0.2661 - accuracy: 0.9011 - val_loss: 0.2449 - val_accuracy: 0.9114\n",
            "Epoch 29/150\n",
            "168/168 [==============================] - 1s 7ms/step - loss: 0.2642 - accuracy: 0.9021 - val_loss: 0.2398 - val_accuracy: 0.9143\n",
            "Epoch 30/150\n",
            "168/168 [==============================] - 1s 7ms/step - loss: 0.2550 - accuracy: 0.9061 - val_loss: 0.2409 - val_accuracy: 0.9136\n",
            "Epoch 31/150\n",
            "168/168 [==============================] - 1s 7ms/step - loss: 0.2575 - accuracy: 0.9050 - val_loss: 0.2277 - val_accuracy: 0.9181\n",
            "Epoch 32/150\n",
            "168/168 [==============================] - 1s 7ms/step - loss: 0.2520 - accuracy: 0.9072 - val_loss: 0.2392 - val_accuracy: 0.9131\n",
            "Epoch 33/150\n",
            "168/168 [==============================] - 1s 7ms/step - loss: 0.2554 - accuracy: 0.9050 - val_loss: 0.2299 - val_accuracy: 0.9159\n",
            "Epoch 34/150\n",
            "168/168 [==============================] - 1s 7ms/step - loss: 0.2493 - accuracy: 0.9074 - val_loss: 0.2277 - val_accuracy: 0.9185\n",
            "Epoch 35/150\n",
            "168/168 [==============================] - 1s 7ms/step - loss: 0.2494 - accuracy: 0.9093 - val_loss: 0.2390 - val_accuracy: 0.9136\n",
            "Epoch 36/150\n",
            "168/168 [==============================] - 1s 7ms/step - loss: 0.2434 - accuracy: 0.9080 - val_loss: 0.2355 - val_accuracy: 0.9155\n",
            "Epoch 37/150\n",
            "168/168 [==============================] - 1s 7ms/step - loss: 0.2422 - accuracy: 0.9096 - val_loss: 0.2365 - val_accuracy: 0.9139\n",
            "Epoch 38/150\n",
            "168/168 [==============================] - 1s 7ms/step - loss: 0.2421 - accuracy: 0.9093 - val_loss: 0.2382 - val_accuracy: 0.9151\n",
            "Epoch 39/150\n",
            "167/168 [============================>.] - ETA: 0s - loss: 0.2420 - accuracy: 0.9091\n",
            "Epoch 00039: ReduceLROnPlateau reducing learning rate to 0.0005000000237487257.\n",
            "168/168 [==============================] - 1s 7ms/step - loss: 0.2418 - accuracy: 0.9091 - val_loss: 0.2401 - val_accuracy: 0.9136\n",
            "Epoch 40/150\n",
            "168/168 [==============================] - 1s 7ms/step - loss: 0.2325 - accuracy: 0.9130 - val_loss: 0.2213 - val_accuracy: 0.9208\n",
            "Epoch 41/150\n",
            "168/168 [==============================] - 1s 7ms/step - loss: 0.2221 - accuracy: 0.9163 - val_loss: 0.2262 - val_accuracy: 0.9196\n",
            "Epoch 42/150\n",
            "168/168 [==============================] - 1s 7ms/step - loss: 0.2207 - accuracy: 0.9182 - val_loss: 0.2152 - val_accuracy: 0.9233\n",
            "Epoch 43/150\n",
            "168/168 [==============================] - 1s 7ms/step - loss: 0.2207 - accuracy: 0.9176 - val_loss: 0.2206 - val_accuracy: 0.9221\n",
            "Epoch 44/150\n",
            "168/168 [==============================] - 1s 7ms/step - loss: 0.2177 - accuracy: 0.9190 - val_loss: 0.2219 - val_accuracy: 0.9216\n",
            "Epoch 45/150\n",
            "168/168 [==============================] - 1s 7ms/step - loss: 0.2174 - accuracy: 0.9185 - val_loss: 0.2197 - val_accuracy: 0.9222\n",
            "Epoch 46/150\n",
            "168/168 [==============================] - 1s 7ms/step - loss: 0.2142 - accuracy: 0.9204 - val_loss: 0.2204 - val_accuracy: 0.9220\n",
            "Epoch 47/150\n",
            "166/168 [============================>.] - ETA: 0s - loss: 0.2107 - accuracy: 0.9199\n",
            "Epoch 00047: ReduceLROnPlateau reducing learning rate to 0.0002500000118743628.\n",
            "168/168 [==============================] - 1s 7ms/step - loss: 0.2109 - accuracy: 0.9196 - val_loss: 0.2271 - val_accuracy: 0.9202\n",
            "Epoch 48/150\n",
            "168/168 [==============================] - 1s 7ms/step - loss: 0.2074 - accuracy: 0.9226 - val_loss: 0.2160 - val_accuracy: 0.9236\n",
            "Epoch 49/150\n",
            "168/168 [==============================] - 1s 7ms/step - loss: 0.2057 - accuracy: 0.9236 - val_loss: 0.2239 - val_accuracy: 0.9204\n",
            "Epoch 50/150\n",
            "168/168 [==============================] - 1s 7ms/step - loss: 0.2065 - accuracy: 0.9232 - val_loss: 0.2178 - val_accuracy: 0.9239\n",
            "Epoch 51/150\n",
            "168/168 [==============================] - 1s 7ms/step - loss: 0.2018 - accuracy: 0.9255 - val_loss: 0.2175 - val_accuracy: 0.9234\n",
            "Epoch 52/150\n",
            "168/168 [==============================] - 1s 7ms/step - loss: 0.2024 - accuracy: 0.9244 - val_loss: 0.2134 - val_accuracy: 0.9248\n",
            "Epoch 53/150\n",
            "168/168 [==============================] - 1s 7ms/step - loss: 0.2018 - accuracy: 0.9233 - val_loss: 0.2112 - val_accuracy: 0.9258\n",
            "Epoch 54/150\n",
            "168/168 [==============================] - 1s 7ms/step - loss: 0.1996 - accuracy: 0.9262 - val_loss: 0.2113 - val_accuracy: 0.9251\n",
            "Epoch 55/150\n",
            "168/168 [==============================] - 1s 7ms/step - loss: 0.1995 - accuracy: 0.9257 - val_loss: 0.2165 - val_accuracy: 0.9248\n",
            "Epoch 56/150\n",
            "168/168 [==============================] - 1s 7ms/step - loss: 0.2001 - accuracy: 0.9258 - val_loss: 0.2154 - val_accuracy: 0.9243\n",
            "Epoch 57/150\n",
            "168/168 [==============================] - 1s 7ms/step - loss: 0.1976 - accuracy: 0.9253 - val_loss: 0.2165 - val_accuracy: 0.9237\n",
            "Epoch 58/150\n",
            "168/168 [==============================] - ETA: 0s - loss: 0.1966 - accuracy: 0.9263\n",
            "Epoch 00058: ReduceLROnPlateau reducing learning rate to 0.0001250000059371814.\n",
            "168/168 [==============================] - 1s 7ms/step - loss: 0.1966 - accuracy: 0.9263 - val_loss: 0.2157 - val_accuracy: 0.9247\n",
            "Epoch 59/150\n",
            "168/168 [==============================] - 1s 7ms/step - loss: 0.1964 - accuracy: 0.9262 - val_loss: 0.2127 - val_accuracy: 0.9257\n",
            "Epoch 60/150\n",
            "168/168 [==============================] - 1s 7ms/step - loss: 0.1953 - accuracy: 0.9267 - val_loss: 0.2112 - val_accuracy: 0.9257\n",
            "Epoch 61/150\n",
            "168/168 [==============================] - 1s 7ms/step - loss: 0.1914 - accuracy: 0.9275 - val_loss: 0.2137 - val_accuracy: 0.9258\n",
            "Epoch 62/150\n",
            "168/168 [==============================] - 1s 7ms/step - loss: 0.1934 - accuracy: 0.9272 - val_loss: 0.2131 - val_accuracy: 0.9261\n",
            "Epoch 63/150\n",
            "168/168 [==============================] - 1s 7ms/step - loss: 0.1922 - accuracy: 0.9265 - val_loss: 0.2130 - val_accuracy: 0.9267\n",
            "Epoch 64/150\n",
            "168/168 [==============================] - 1s 7ms/step - loss: 0.1878 - accuracy: 0.9301 - val_loss: 0.2142 - val_accuracy: 0.9259\n",
            "Epoch 65/150\n",
            "168/168 [==============================] - 1s 7ms/step - loss: 0.1931 - accuracy: 0.9281 - val_loss: 0.2163 - val_accuracy: 0.9251\n",
            "Epoch 66/150\n",
            "168/168 [==============================] - 1s 7ms/step - loss: 0.1927 - accuracy: 0.9273 - val_loss: 0.2138 - val_accuracy: 0.9258\n",
            "Epoch 67/150\n",
            "168/168 [==============================] - 1s 7ms/step - loss: 0.1898 - accuracy: 0.9299 - val_loss: 0.2131 - val_accuracy: 0.9261\n",
            "Epoch 68/150\n",
            "168/168 [==============================] - ETA: 0s - loss: 0.1874 - accuracy: 0.9297\n",
            "Epoch 00068: ReduceLROnPlateau reducing learning rate to 6.25000029685907e-05.\n",
            "168/168 [==============================] - 1s 7ms/step - loss: 0.1874 - accuracy: 0.9297 - val_loss: 0.2162 - val_accuracy: 0.9242\n",
            "Epoch 69/150\n",
            "168/168 [==============================] - 1s 8ms/step - loss: 0.1895 - accuracy: 0.9298 - val_loss: 0.2137 - val_accuracy: 0.9251\n",
            "Epoch 70/150\n",
            "168/168 [==============================] - 1s 7ms/step - loss: 0.1882 - accuracy: 0.9295 - val_loss: 0.2120 - val_accuracy: 0.9258\n",
            "Epoch 71/150\n",
            "168/168 [==============================] - 1s 7ms/step - loss: 0.1843 - accuracy: 0.9318 - val_loss: 0.2117 - val_accuracy: 0.9266\n",
            "Epoch 72/150\n",
            "168/168 [==============================] - 1s 7ms/step - loss: 0.1861 - accuracy: 0.9294 - val_loss: 0.2119 - val_accuracy: 0.9257\n",
            "Epoch 73/150\n",
            "168/168 [==============================] - 1s 7ms/step - loss: 0.1830 - accuracy: 0.9312 - val_loss: 0.2125 - val_accuracy: 0.9271\n",
            "Epoch 74/150\n",
            "168/168 [==============================] - 1s 7ms/step - loss: 0.1867 - accuracy: 0.9294 - val_loss: 0.2117 - val_accuracy: 0.9263\n",
            "Epoch 75/150\n",
            "168/168 [==============================] - 1s 7ms/step - loss: 0.1822 - accuracy: 0.9315 - val_loss: 0.2116 - val_accuracy: 0.9270\n",
            "Epoch 76/150\n",
            "168/168 [==============================] - 1s 7ms/step - loss: 0.1877 - accuracy: 0.9290 - val_loss: 0.2125 - val_accuracy: 0.9262\n",
            "Epoch 77/150\n",
            "168/168 [==============================] - 1s 7ms/step - loss: 0.1841 - accuracy: 0.9309 - val_loss: 0.2128 - val_accuracy: 0.9256\n",
            "Epoch 78/150\n",
            "166/168 [============================>.] - ETA: 0s - loss: 0.1851 - accuracy: 0.9296\n",
            "Epoch 00078: ReduceLROnPlateau reducing learning rate to 3.125000148429535e-05.\n",
            "168/168 [==============================] - 1s 7ms/step - loss: 0.1847 - accuracy: 0.9299 - val_loss: 0.2123 - val_accuracy: 0.9256\n",
            "Epoch 79/150\n",
            "168/168 [==============================] - 1s 7ms/step - loss: 0.1838 - accuracy: 0.9312 - val_loss: 0.2133 - val_accuracy: 0.9258\n",
            "Epoch 80/150\n",
            "168/168 [==============================] - 1s 7ms/step - loss: 0.1865 - accuracy: 0.9299 - val_loss: 0.2123 - val_accuracy: 0.9257\n",
            "Epoch 81/150\n",
            "168/168 [==============================] - 1s 7ms/step - loss: 0.1853 - accuracy: 0.9302 - val_loss: 0.2116 - val_accuracy: 0.9258\n",
            "Epoch 82/150\n",
            "168/168 [==============================] - 1s 7ms/step - loss: 0.1838 - accuracy: 0.9317 - val_loss: 0.2122 - val_accuracy: 0.9256\n",
            "Epoch 83/150\n",
            "167/168 [============================>.] - ETA: 0s - loss: 0.1849 - accuracy: 0.9309\n",
            "Epoch 00083: ReduceLROnPlateau reducing learning rate to 1.5625000742147677e-05.\n",
            "168/168 [==============================] - 1s 7ms/step - loss: 0.1847 - accuracy: 0.9310 - val_loss: 0.2119 - val_accuracy: 0.9260\n",
            "Epoch 00083: early stopping\n"
          ],
          "name": "stdout"
        }
      ]
    },
    {
      "cell_type": "code",
      "metadata": {
        "id": "pZJtd1eM2yC9",
        "outputId": "8dffa4ed-0e8c-4702-9f77-d8eef2815f28",
        "colab": {
          "base_uri": "https://localhost:8080/",
          "height": 50
        }
      },
      "source": [
        "evaluation = model.evaluate(test_images, test_labels_transformed)\n",
        "print(\"test set accuracy: \",evaluation[1])\n"
      ],
      "execution_count": null,
      "outputs": [
        {
          "output_type": "stream",
          "text": [
            "313/313 [==============================] - 1s 3ms/step - loss: 0.2359 - accuracy: 0.9196\n",
            "test set accuracy:  0.9196000099182129\n"
          ],
          "name": "stdout"
        }
      ]
    },
    {
      "cell_type": "markdown",
      "metadata": {
        "id": "qGJh17NvaC5A"
      },
      "source": [
        "Modelling with data augmentation"
      ]
    },
    {
      "cell_type": "code",
      "metadata": {
        "id": "nViQaMZiZtdY"
      },
      "source": [
        "train_images , train_labels_transformed=augment_data(train_images , train_labels_transformed)\n",
        "#validation_images, validation_labels_transformed=augment_data(validation_images, validation_labels_transformed)\n",
        "#test_images, test_labels_transformed =augment_data(test_images, test_labels_transformed )"
      ],
      "execution_count": null,
      "outputs": []
    },
    {
      "cell_type": "markdown",
      "metadata": {
        "id": "9OsladvBaZOe"
      },
      "source": [
        "model2"
      ]
    },
    {
      "cell_type": "code",
      "metadata": {
        "id": "cVWErwjyaZb6"
      },
      "source": [
        "model2 = tf.keras.models.Sequential([\n",
        "    # Note the input shape is the desired size of the image 150x150 with 3 bytes color\n",
        "    # This is the first convolution\n",
        "    tf.keras.layers.InputLayer(input_shape=(28, 28, 1)),\n",
        "    #tf.keras.layers.BatchNormalization(),\n",
        "    tf.keras.layers.Conv2D(8, (2,2), activation='relu',padding='same'),\n",
        "    tf.keras.layers.BatchNormalization(),\n",
        "    tf.keras.layers.MaxPooling2D(2, 2),\n",
        "    tf.keras.layers.Dropout(0.3),\n",
        "    \n",
        "    # The second convolution\n",
        "    tf.keras.layers.Conv2D(16, (2,2), activation='relu',padding='same'),\n",
        "    tf.keras.layers.BatchNormalization(),\n",
        "    #tf.keras.layers.MaxPooling2D(2,2),\n",
        "    tf.keras.layers.Dropout(0.3),\n",
        "    # The third convolution\n",
        "    tf.keras.layers.Conv2D(16, (2,2), activation='relu',padding='same'),\n",
        "    tf.keras.layers.BatchNormalization(),\n",
        "    tf.keras.layers.MaxPooling2D(2,2),\n",
        "    tf.keras.layers.Dropout(0.3),\n",
        "    # Flatten the results to feed into a DNN\n",
        "    tf.keras.layers.Flatten(),\n",
        "    # 784 neuron hidden layer\n",
        "    tf.keras.layers.Dense(784, activation='relu'),\n",
        "    tf.keras.layers.BatchNormalization(),\n",
        "    tf.keras.layers.Dropout(0.3),\n",
        "\n",
        "    tf.keras.layers.Dense(256, activation='relu'),\n",
        "    tf.keras.layers.BatchNormalization(),\n",
        "    tf.keras.layers.Dropout(0.3),\n",
        "\n",
        "    tf.keras.layers.Dense(128, activation='relu'),\n",
        "    tf.keras.layers.BatchNormalization(),\n",
        "    tf.keras.layers.Dropout(0.3),\n",
        "    # Only 1 output neuron. It will contain a value from 0-1 where 0 for 1 class ('horses') and 1 for the other ('humans')\n",
        "    tf.keras.layers.Dense(10, activation='softmax')\n",
        "])"
      ],
      "execution_count": null,
      "outputs": []
    },
    {
      "cell_type": "code",
      "metadata": {
        "id": "jPA9lwStaOOd",
        "outputId": "603f34ac-542c-4f18-a089-7cb0173326ba",
        "colab": {
          "base_uri": "https://localhost:8080/",
          "height": 1000
        }
      },
      "source": [
        "\n",
        "model2.compile(loss='categorical_crossentropy', optimizer=tf.optimizers.Adam(), metrics=['accuracy'])\n",
        "\n",
        "\n",
        "\n",
        "early_stop = tf.keras.callbacks.EarlyStopping(monitor='val_accuracy', min_delta=0, patience=10, verbose=1)\n",
        "\n",
        "learning_rate_reduction = tf.keras.callbacks.ReduceLROnPlateau(monitor='val_accuracy', \n",
        "                                            patience=5, \n",
        "                                            verbose=1, \n",
        "                                            factor=0.5, \n",
        "                                            min_lr=0)\n",
        "\n",
        "\n",
        "batch_size = 250\n",
        "num_epochs = 150\n",
        "iterations = 5   \n",
        "\n",
        "\n",
        "history1 = model2.fit(\n",
        "        train_images , train_labels_transformed,\n",
        "        batch_size=batch_size,\n",
        "        epochs=num_epochs,\n",
        "        verbose=1,\n",
        "        validation_data=(validation_images, validation_labels_transformed),\n",
        "        callbacks=[early_stop,learning_rate_reduction]\n",
        "        \n",
        "    )"
      ],
      "execution_count": null,
      "outputs": [
        {
          "output_type": "stream",
          "text": [
            "Epoch 1/150\n",
            "504/504 [==============================] - 4s 7ms/step - loss: 1.0193 - accuracy: 0.6249 - val_loss: 0.7808 - val_accuracy: 0.6898\n",
            "Epoch 2/150\n",
            "504/504 [==============================] - 3s 7ms/step - loss: 0.6972 - accuracy: 0.7354 - val_loss: 0.5577 - val_accuracy: 0.7889\n",
            "Epoch 3/150\n",
            "504/504 [==============================] - 3s 7ms/step - loss: 0.6073 - accuracy: 0.7723 - val_loss: 0.4342 - val_accuracy: 0.8395\n",
            "Epoch 4/150\n",
            "504/504 [==============================] - 3s 7ms/step - loss: 0.5597 - accuracy: 0.7917 - val_loss: 0.5902 - val_accuracy: 0.7779\n",
            "Epoch 5/150\n",
            "504/504 [==============================] - 3s 7ms/step - loss: 0.5292 - accuracy: 0.8038 - val_loss: 0.3729 - val_accuracy: 0.8599\n",
            "Epoch 6/150\n",
            "504/504 [==============================] - 3s 7ms/step - loss: 0.5085 - accuracy: 0.8102 - val_loss: 0.3986 - val_accuracy: 0.8533\n",
            "Epoch 7/150\n",
            "504/504 [==============================] - 3s 7ms/step - loss: 0.4931 - accuracy: 0.8169 - val_loss: 0.4267 - val_accuracy: 0.8346\n",
            "Epoch 8/150\n",
            "504/504 [==============================] - 3s 7ms/step - loss: 0.4777 - accuracy: 0.8227 - val_loss: 0.3284 - val_accuracy: 0.8782\n",
            "Epoch 9/150\n",
            "504/504 [==============================] - 3s 7ms/step - loss: 0.4643 - accuracy: 0.8281 - val_loss: 0.3194 - val_accuracy: 0.8811\n",
            "Epoch 10/150\n",
            "504/504 [==============================] - 3s 7ms/step - loss: 0.4545 - accuracy: 0.8314 - val_loss: 0.3151 - val_accuracy: 0.8805\n",
            "Epoch 11/150\n",
            "504/504 [==============================] - 3s 7ms/step - loss: 0.4481 - accuracy: 0.8336 - val_loss: 0.3212 - val_accuracy: 0.8806\n",
            "Epoch 12/150\n",
            "504/504 [==============================] - 3s 7ms/step - loss: 0.4411 - accuracy: 0.8373 - val_loss: 0.3101 - val_accuracy: 0.8829\n",
            "Epoch 13/150\n",
            "504/504 [==============================] - 3s 7ms/step - loss: 0.4352 - accuracy: 0.8394 - val_loss: 0.3154 - val_accuracy: 0.8806\n",
            "Epoch 14/150\n",
            "504/504 [==============================] - 3s 7ms/step - loss: 0.4262 - accuracy: 0.8419 - val_loss: 0.3055 - val_accuracy: 0.8855\n",
            "Epoch 15/150\n",
            "504/504 [==============================] - 3s 7ms/step - loss: 0.4223 - accuracy: 0.8434 - val_loss: 0.3180 - val_accuracy: 0.8831\n",
            "Epoch 16/150\n",
            "504/504 [==============================] - 3s 7ms/step - loss: 0.4156 - accuracy: 0.8465 - val_loss: 0.2891 - val_accuracy: 0.8930\n",
            "Epoch 17/150\n",
            "504/504 [==============================] - 3s 6ms/step - loss: 0.4113 - accuracy: 0.8483 - val_loss: 0.3062 - val_accuracy: 0.8869\n",
            "Epoch 18/150\n",
            "504/504 [==============================] - 3s 7ms/step - loss: 0.4046 - accuracy: 0.8502 - val_loss: 0.2952 - val_accuracy: 0.8900\n",
            "Epoch 19/150\n",
            "504/504 [==============================] - 3s 7ms/step - loss: 0.4021 - accuracy: 0.8506 - val_loss: 0.3263 - val_accuracy: 0.8787\n",
            "Epoch 20/150\n",
            "504/504 [==============================] - 3s 7ms/step - loss: 0.3974 - accuracy: 0.8520 - val_loss: 0.2917 - val_accuracy: 0.8929\n",
            "Epoch 21/150\n",
            "504/504 [==============================] - 3s 7ms/step - loss: 0.3946 - accuracy: 0.8528 - val_loss: 0.2861 - val_accuracy: 0.8974\n",
            "Epoch 22/150\n",
            "504/504 [==============================] - 3s 7ms/step - loss: 0.3908 - accuracy: 0.8541 - val_loss: 0.2740 - val_accuracy: 0.9008\n",
            "Epoch 23/150\n",
            "504/504 [==============================] - 3s 7ms/step - loss: 0.3879 - accuracy: 0.8549 - val_loss: 0.2753 - val_accuracy: 0.9009\n",
            "Epoch 24/150\n",
            "504/504 [==============================] - 3s 6ms/step - loss: 0.3830 - accuracy: 0.8579 - val_loss: 0.3087 - val_accuracy: 0.8845\n",
            "Epoch 25/150\n",
            "504/504 [==============================] - 3s 6ms/step - loss: 0.3792 - accuracy: 0.8579 - val_loss: 0.2806 - val_accuracy: 0.8993\n",
            "Epoch 26/150\n",
            "504/504 [==============================] - 3s 7ms/step - loss: 0.3788 - accuracy: 0.8591 - val_loss: 0.2978 - val_accuracy: 0.8941\n",
            "Epoch 27/150\n",
            "504/504 [==============================] - 3s 6ms/step - loss: 0.3739 - accuracy: 0.8603 - val_loss: 0.2704 - val_accuracy: 0.9018\n",
            "Epoch 28/150\n",
            "504/504 [==============================] - 3s 7ms/step - loss: 0.3703 - accuracy: 0.8612 - val_loss: 0.2755 - val_accuracy: 0.9015\n",
            "Epoch 29/150\n",
            "504/504 [==============================] - 3s 7ms/step - loss: 0.3705 - accuracy: 0.8624 - val_loss: 0.2832 - val_accuracy: 0.8961\n",
            "Epoch 30/150\n",
            "504/504 [==============================] - 3s 7ms/step - loss: 0.3676 - accuracy: 0.8637 - val_loss: 0.2701 - val_accuracy: 0.9022\n",
            "Epoch 31/150\n",
            "504/504 [==============================] - 3s 6ms/step - loss: 0.3661 - accuracy: 0.8634 - val_loss: 0.2888 - val_accuracy: 0.8957\n",
            "Epoch 32/150\n",
            "504/504 [==============================] - 3s 7ms/step - loss: 0.3638 - accuracy: 0.8637 - val_loss: 0.2798 - val_accuracy: 0.8989\n",
            "Epoch 33/150\n",
            "504/504 [==============================] - 3s 7ms/step - loss: 0.3619 - accuracy: 0.8643 - val_loss: 0.2849 - val_accuracy: 0.8964\n",
            "Epoch 34/150\n",
            "504/504 [==============================] - 3s 6ms/step - loss: 0.3583 - accuracy: 0.8660 - val_loss: 0.2899 - val_accuracy: 0.8917\n",
            "Epoch 35/150\n",
            "504/504 [==============================] - 3s 7ms/step - loss: 0.3578 - accuracy: 0.8657 - val_loss: 0.2714 - val_accuracy: 0.9032\n",
            "Epoch 36/150\n",
            "504/504 [==============================] - 3s 6ms/step - loss: 0.3546 - accuracy: 0.8678 - val_loss: 0.2686 - val_accuracy: 0.9038\n",
            "Epoch 37/150\n",
            "504/504 [==============================] - 3s 6ms/step - loss: 0.3516 - accuracy: 0.8683 - val_loss: 0.2722 - val_accuracy: 0.9025\n",
            "Epoch 38/150\n",
            "504/504 [==============================] - 3s 7ms/step - loss: 0.3519 - accuracy: 0.8689 - val_loss: 0.2684 - val_accuracy: 0.9014\n",
            "Epoch 39/150\n",
            "504/504 [==============================] - 3s 7ms/step - loss: 0.3477 - accuracy: 0.8700 - val_loss: 0.2634 - val_accuracy: 0.9039\n",
            "Epoch 40/150\n",
            "504/504 [==============================] - 3s 7ms/step - loss: 0.3482 - accuracy: 0.8696 - val_loss: 0.2745 - val_accuracy: 0.9021\n",
            "Epoch 41/150\n",
            "504/504 [==============================] - 3s 7ms/step - loss: 0.3446 - accuracy: 0.8709 - val_loss: 0.2663 - val_accuracy: 0.9029\n",
            "Epoch 42/150\n",
            "504/504 [==============================] - 3s 6ms/step - loss: 0.3478 - accuracy: 0.8705 - val_loss: 0.2600 - val_accuracy: 0.9058\n",
            "Epoch 43/150\n",
            "504/504 [==============================] - 3s 6ms/step - loss: 0.3433 - accuracy: 0.8711 - val_loss: 0.2627 - val_accuracy: 0.9048\n",
            "Epoch 44/150\n",
            "504/504 [==============================] - 3s 7ms/step - loss: 0.3421 - accuracy: 0.8716 - val_loss: 0.2560 - val_accuracy: 0.9094\n",
            "Epoch 45/150\n",
            "504/504 [==============================] - 3s 6ms/step - loss: 0.3403 - accuracy: 0.8733 - val_loss: 0.2740 - val_accuracy: 0.9011\n",
            "Epoch 46/150\n",
            "504/504 [==============================] - 3s 6ms/step - loss: 0.3391 - accuracy: 0.8731 - val_loss: 0.2588 - val_accuracy: 0.9067\n",
            "Epoch 47/150\n",
            "504/504 [==============================] - 3s 7ms/step - loss: 0.3375 - accuracy: 0.8737 - val_loss: 0.2488 - val_accuracy: 0.9088\n",
            "Epoch 48/150\n",
            "504/504 [==============================] - 3s 6ms/step - loss: 0.3372 - accuracy: 0.8733 - val_loss: 0.2557 - val_accuracy: 0.9082\n",
            "Epoch 49/150\n",
            "500/504 [============================>.] - ETA: 0s - loss: 0.3341 - accuracy: 0.8744\n",
            "Epoch 00049: ReduceLROnPlateau reducing learning rate to 0.0005000000237487257.\n",
            "504/504 [==============================] - 3s 7ms/step - loss: 0.3341 - accuracy: 0.8744 - val_loss: 0.2503 - val_accuracy: 0.9084\n",
            "Epoch 50/150\n",
            "504/504 [==============================] - 3s 6ms/step - loss: 0.3251 - accuracy: 0.8785 - val_loss: 0.2475 - val_accuracy: 0.9112\n",
            "Epoch 51/150\n",
            "504/504 [==============================] - 3s 6ms/step - loss: 0.3193 - accuracy: 0.8802 - val_loss: 0.2458 - val_accuracy: 0.9125\n",
            "Epoch 52/150\n",
            "504/504 [==============================] - 3s 6ms/step - loss: 0.3182 - accuracy: 0.8813 - val_loss: 0.2500 - val_accuracy: 0.9110\n",
            "Epoch 53/150\n",
            "504/504 [==============================] - 3s 6ms/step - loss: 0.3154 - accuracy: 0.8819 - val_loss: 0.2466 - val_accuracy: 0.9111\n",
            "Epoch 54/150\n",
            "504/504 [==============================] - 3s 6ms/step - loss: 0.3131 - accuracy: 0.8833 - val_loss: 0.2410 - val_accuracy: 0.9138\n",
            "Epoch 55/150\n",
            "504/504 [==============================] - 3s 6ms/step - loss: 0.3142 - accuracy: 0.8819 - val_loss: 0.2451 - val_accuracy: 0.9123\n",
            "Epoch 56/150\n",
            "504/504 [==============================] - 3s 6ms/step - loss: 0.3150 - accuracy: 0.8819 - val_loss: 0.2474 - val_accuracy: 0.9117\n",
            "Epoch 57/150\n",
            "504/504 [==============================] - 3s 6ms/step - loss: 0.3111 - accuracy: 0.8831 - val_loss: 0.2526 - val_accuracy: 0.9096\n",
            "Epoch 58/150\n",
            "504/504 [==============================] - 3s 7ms/step - loss: 0.3096 - accuracy: 0.8847 - val_loss: 0.2540 - val_accuracy: 0.9100\n",
            "Epoch 59/150\n",
            "496/504 [============================>.] - ETA: 0s - loss: 0.3102 - accuracy: 0.8841\n",
            "Epoch 00059: ReduceLROnPlateau reducing learning rate to 0.0002500000118743628.\n",
            "504/504 [==============================] - 3s 6ms/step - loss: 0.3104 - accuracy: 0.8840 - val_loss: 0.2514 - val_accuracy: 0.9116\n",
            "Epoch 60/150\n",
            "504/504 [==============================] - 3s 6ms/step - loss: 0.3014 - accuracy: 0.8872 - val_loss: 0.2437 - val_accuracy: 0.9130\n",
            "Epoch 61/150\n",
            "504/504 [==============================] - 3s 6ms/step - loss: 0.3021 - accuracy: 0.8870 - val_loss: 0.2492 - val_accuracy: 0.9128\n",
            "Epoch 62/150\n",
            "504/504 [==============================] - 3s 6ms/step - loss: 0.3005 - accuracy: 0.8870 - val_loss: 0.2484 - val_accuracy: 0.9114\n",
            "Epoch 63/150\n",
            "504/504 [==============================] - 3s 6ms/step - loss: 0.2986 - accuracy: 0.8875 - val_loss: 0.2429 - val_accuracy: 0.9126\n",
            "Epoch 64/150\n",
            "504/504 [==============================] - 3s 7ms/step - loss: 0.2987 - accuracy: 0.8874 - val_loss: 0.2406 - val_accuracy: 0.9139\n",
            "Epoch 65/150\n",
            "504/504 [==============================] - 3s 6ms/step - loss: 0.2961 - accuracy: 0.8891 - val_loss: 0.2406 - val_accuracy: 0.9137\n",
            "Epoch 66/150\n",
            "504/504 [==============================] - 3s 6ms/step - loss: 0.2970 - accuracy: 0.8892 - val_loss: 0.2471 - val_accuracy: 0.9126\n",
            "Epoch 67/150\n",
            "504/504 [==============================] - 3s 6ms/step - loss: 0.2994 - accuracy: 0.8872 - val_loss: 0.2409 - val_accuracy: 0.9135\n",
            "Epoch 68/150\n",
            "504/504 [==============================] - 3s 7ms/step - loss: 0.2972 - accuracy: 0.8887 - val_loss: 0.2442 - val_accuracy: 0.9137\n",
            "Epoch 69/150\n",
            "500/504 [============================>.] - ETA: 0s - loss: 0.2965 - accuracy: 0.8887\n",
            "Epoch 00069: ReduceLROnPlateau reducing learning rate to 0.0001250000059371814.\n",
            "504/504 [==============================] - 3s 7ms/step - loss: 0.2965 - accuracy: 0.8887 - val_loss: 0.2442 - val_accuracy: 0.9137\n",
            "Epoch 70/150\n",
            "504/504 [==============================] - 3s 6ms/step - loss: 0.2926 - accuracy: 0.8898 - val_loss: 0.2429 - val_accuracy: 0.9141\n",
            "Epoch 71/150\n",
            "504/504 [==============================] - 3s 6ms/step - loss: 0.2934 - accuracy: 0.8891 - val_loss: 0.2419 - val_accuracy: 0.9147\n",
            "Epoch 72/150\n",
            "504/504 [==============================] - 3s 6ms/step - loss: 0.2914 - accuracy: 0.8907 - val_loss: 0.2421 - val_accuracy: 0.9144\n",
            "Epoch 73/150\n",
            "504/504 [==============================] - 3s 6ms/step - loss: 0.2887 - accuracy: 0.8913 - val_loss: 0.2451 - val_accuracy: 0.9133\n",
            "Epoch 74/150\n",
            "504/504 [==============================] - 3s 6ms/step - loss: 0.2897 - accuracy: 0.8921 - val_loss: 0.2459 - val_accuracy: 0.9140\n",
            "Epoch 75/150\n",
            "504/504 [==============================] - 3s 6ms/step - loss: 0.2897 - accuracy: 0.8906 - val_loss: 0.2395 - val_accuracy: 0.9148\n",
            "Epoch 76/150\n",
            "504/504 [==============================] - 3s 6ms/step - loss: 0.2897 - accuracy: 0.8912 - val_loss: 0.2431 - val_accuracy: 0.9141\n",
            "Epoch 77/150\n",
            "504/504 [==============================] - 3s 6ms/step - loss: 0.2891 - accuracy: 0.8923 - val_loss: 0.2441 - val_accuracy: 0.9136\n",
            "Epoch 78/150\n",
            "504/504 [==============================] - 3s 6ms/step - loss: 0.2883 - accuracy: 0.8911 - val_loss: 0.2447 - val_accuracy: 0.9137\n",
            "Epoch 79/150\n",
            "504/504 [==============================] - 3s 6ms/step - loss: 0.2894 - accuracy: 0.8913 - val_loss: 0.2458 - val_accuracy: 0.9118\n",
            "Epoch 80/150\n",
            "498/504 [============================>.] - ETA: 0s - loss: 0.2870 - accuracy: 0.8923\n",
            "Epoch 00080: ReduceLROnPlateau reducing learning rate to 6.25000029685907e-05.\n",
            "504/504 [==============================] - 3s 6ms/step - loss: 0.2870 - accuracy: 0.8923 - val_loss: 0.2399 - val_accuracy: 0.9146\n",
            "Epoch 81/150\n",
            "504/504 [==============================] - 3s 6ms/step - loss: 0.2858 - accuracy: 0.8916 - val_loss: 0.2416 - val_accuracy: 0.9144\n",
            "Epoch 82/150\n",
            "504/504 [==============================] - 3s 6ms/step - loss: 0.2858 - accuracy: 0.8920 - val_loss: 0.2426 - val_accuracy: 0.9140\n",
            "Epoch 83/150\n",
            "504/504 [==============================] - 3s 6ms/step - loss: 0.2855 - accuracy: 0.8925 - val_loss: 0.2427 - val_accuracy: 0.9142\n",
            "Epoch 84/150\n",
            "504/504 [==============================] - 3s 6ms/step - loss: 0.2863 - accuracy: 0.8928 - val_loss: 0.2417 - val_accuracy: 0.9142\n",
            "Epoch 85/150\n",
            "499/504 [============================>.] - ETA: 0s - loss: 0.2854 - accuracy: 0.8930\n",
            "Epoch 00085: ReduceLROnPlateau reducing learning rate to 3.125000148429535e-05.\n",
            "504/504 [==============================] - 3s 6ms/step - loss: 0.2853 - accuracy: 0.8930 - val_loss: 0.2447 - val_accuracy: 0.9141\n",
            "Epoch 00085: early stopping\n"
          ],
          "name": "stdout"
        }
      ]
    },
    {
      "cell_type": "code",
      "metadata": {
        "id": "NICrOBNkaxgB",
        "outputId": "507df1a0-bef3-4652-d1b9-d4a07e03746c",
        "colab": {
          "base_uri": "https://localhost:8080/",
          "height": 50
        }
      },
      "source": [
        "evaluation = model2.evaluate(test_images, test_labels_transformed)\n",
        "print(\"test set accuracy: \",evaluation[1])"
      ],
      "execution_count": null,
      "outputs": [
        {
          "output_type": "stream",
          "text": [
            "313/313 [==============================] - 1s 3ms/step - loss: 0.2591 - accuracy: 0.9079\n",
            "test set accuracy:  0.9078999757766724\n"
          ],
          "name": "stdout"
        }
      ]
    },
    {
      "cell_type": "markdown",
      "metadata": {
        "id": "Kk0Voi_25dHT"
      },
      "source": [
        "#trash\n",
        "\n",
        "batch_size = 250\n",
        "num_epochs = 80\n",
        "iterations = 5    \n",
        "\n",
        "history = model.fit(\n",
        "        train_images , train_labels_transformed,\n",
        "        batch_size=batch_size,\n",
        "        epochs=num_epochs,\n",
        "        verbose=1,\n",
        "        validation_data=(validation_images, validation_labels_transformed)\n",
        "        validation_steps=256\n",
        "        callbacks=[\n",
        "            tf.keras.callbacks.ModelCheckpoint(filepath, monitor='val_loss', verbose=1, save_best_only=True)\n",
        "        ]\n",
        " )\n",
        " \n"
      ]
    }
  ]
}