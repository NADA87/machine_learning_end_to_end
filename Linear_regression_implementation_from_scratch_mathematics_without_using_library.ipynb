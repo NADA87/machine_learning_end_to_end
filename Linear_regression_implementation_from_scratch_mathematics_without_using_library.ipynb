{
  "nbformat": 4,
  "nbformat_minor": 0,
  "metadata": {
    "kernelspec": {
      "display_name": "Python 3",
      "language": "python",
      "name": "python3"
    },
    "language_info": {
      "codemirror_mode": {
        "name": "ipython",
        "version": 3
      },
      "file_extension": ".py",
      "mimetype": "text/x-python",
      "name": "python",
      "nbconvert_exporter": "python",
      "pygments_lexer": "ipython3",
      "version": "3.7.0"
    },
    "colab": {
      "name": "assignment 2  linear regression implementation.ipynb",
      "provenance": []
    }
  },
  "cells": [
    {
      "cell_type": "markdown",
      "metadata": {
        "id": "qH50VwBtRqNR"
      },
      "source": [
        "###### Explain what a cost function is.\n",
        "###### understanding of derivatives.\n",
        "###### Should be able to explain the effects of having different learning rates.\n"
      ]
    },
    {
      "cell_type": "code",
      "metadata": {
        "id": "RYHFuH5ZRqNU"
      },
      "source": [
        "import pandas as pd\n",
        "import numpy as np\n",
        "import matplotlib.pyplot as plt"
      ],
      "execution_count": null,
      "outputs": []
    },
    {
      "cell_type": "code",
      "metadata": {
        "id": "K4LUw_yiRqNZ"
      },
      "source": [
        "df=pd.read_csv('assignment2_data.csv',header=None,)"
      ],
      "execution_count": null,
      "outputs": []
    },
    {
      "cell_type": "code",
      "metadata": {
        "id": "1eMfC4QFRqNe",
        "outputId": "0b8ebc2b-8bf8-4927-d2ad-cf1a9a9a3607"
      },
      "source": [
        "df.head()"
      ],
      "execution_count": null,
      "outputs": [
        {
          "output_type": "execute_result",
          "data": {
            "text/html": [
              "<div>\n",
              "<style scoped>\n",
              "    .dataframe tbody tr th:only-of-type {\n",
              "        vertical-align: middle;\n",
              "    }\n",
              "\n",
              "    .dataframe tbody tr th {\n",
              "        vertical-align: top;\n",
              "    }\n",
              "\n",
              "    .dataframe thead th {\n",
              "        text-align: right;\n",
              "    }\n",
              "</style>\n",
              "<table border=\"1\" class=\"dataframe\">\n",
              "  <thead>\n",
              "    <tr style=\"text-align: right;\">\n",
              "      <th></th>\n",
              "      <th>0</th>\n",
              "      <th>1</th>\n",
              "    </tr>\n",
              "  </thead>\n",
              "  <tbody>\n",
              "    <tr>\n",
              "      <th>0</th>\n",
              "      <td>32.502345</td>\n",
              "      <td>31.707006</td>\n",
              "    </tr>\n",
              "    <tr>\n",
              "      <th>1</th>\n",
              "      <td>53.426804</td>\n",
              "      <td>68.777596</td>\n",
              "    </tr>\n",
              "    <tr>\n",
              "      <th>2</th>\n",
              "      <td>61.530358</td>\n",
              "      <td>62.562382</td>\n",
              "    </tr>\n",
              "    <tr>\n",
              "      <th>3</th>\n",
              "      <td>47.475640</td>\n",
              "      <td>71.546632</td>\n",
              "    </tr>\n",
              "    <tr>\n",
              "      <th>4</th>\n",
              "      <td>59.813208</td>\n",
              "      <td>87.230925</td>\n",
              "    </tr>\n",
              "  </tbody>\n",
              "</table>\n",
              "</div>"
            ],
            "text/plain": [
              "           0          1\n",
              "0  32.502345  31.707006\n",
              "1  53.426804  68.777596\n",
              "2  61.530358  62.562382\n",
              "3  47.475640  71.546632\n",
              "4  59.813208  87.230925"
            ]
          },
          "metadata": {
            "tags": []
          },
          "execution_count": 377
        }
      ]
    },
    {
      "cell_type": "code",
      "metadata": {
        "id": "37mGdyBeRqNj"
      },
      "source": [
        "df_matrix=np.array(df.values)"
      ],
      "execution_count": null,
      "outputs": []
    },
    {
      "cell_type": "code",
      "metadata": {
        "id": "_9Ug9EpbRqNn"
      },
      "source": [
        "x=df_matrix[:,0].reshape(100,1)\n",
        "\n",
        "y=df_matrix[:,1].reshape(100,1)"
      ],
      "execution_count": null,
      "outputs": []
    },
    {
      "cell_type": "code",
      "metadata": {
        "id": "M2qnQE9dRqNr",
        "outputId": "e4f4284a-66cb-4189-a04e-e18ceead4930"
      },
      "source": [
        "x=x/np.max(x) # normalizing\n",
        "\n",
        "ones=np.ones((100,1))\n",
        "\n",
        "x=np.concatenate((x,ones),axis=1)\n",
        "\n",
        "x[:5,:] # training set first fivr rows"
      ],
      "execution_count": null,
      "outputs": [
        {
          "output_type": "execute_result",
          "data": {
            "text/plain": [
              "array([[0.46203495, 1.        ],\n",
              "       [0.75948521, 1.        ],\n",
              "       [0.87468075, 1.        ],\n",
              "       [0.67488683, 1.        ],\n",
              "       [0.85027071, 1.        ]])"
            ]
          },
          "metadata": {
            "tags": []
          },
          "execution_count": 380
        }
      ]
    },
    {
      "cell_type": "code",
      "metadata": {
        "id": "VhW2HuZiRqNz",
        "outputId": "da0e3cf2-aacf-4577-d175-523dd8927e71"
      },
      "source": [
        "plt.scatter(x[:,0],y)"
      ],
      "execution_count": null,
      "outputs": [
        {
          "output_type": "execute_result",
          "data": {
            "text/plain": [
              "<matplotlib.collections.PathCollection at 0x20447c0a160>"
            ]
          },
          "metadata": {
            "tags": []
          },
          "execution_count": 381
        },
        {
          "output_type": "display_data",
          "data": {
            "image/png": "[encoded data removed]",
            "text/plain": [
              "<Figure size 432x288 with 1 Axes>"
            ]
          },
          "metadata": {
            "tags": [],
            "needs_background": "light"
          }
        }
      ]
    },
    {
      "cell_type": "markdown",
      "metadata": {
        "id": "o1g6Qls8RqN4"
      },
      "source": [
        "### linearregression equation is ==>  theta_one*x + theta_two = y"
      ]
    },
    {
      "cell_type": "markdown",
      "metadata": {
        "id": "fc-73ndPRqN5"
      },
      "source": [
        "### cost function  is equal to sum of squares of residuals devided by twice of total number of observations\n",
        "#### residual = predicted - actual\n",
        "# cost=(1/2m)* np.sum((np.dot(x,theta)-y)**2,axis=0)"
      ]
    },
    {
      "cell_type": "code",
      "metadata": {
        "id": "ckF35dTqRqN6"
      },
      "source": [
        "# function for linear regression calculation\n",
        "\n",
        "def linear_regressor(x,y,alpha,iteration):\n",
        "    \n",
        "    theta=np.ones((2,1)) # initialize theta\n",
        "    \n",
        "    m= np.shape(x)[0]\n",
        "    \n",
        "    for i in range(iteration):\n",
        "        temp_theta_one=np.sum((alpha/m)*(np.dot(x,theta)-y)*theta[0,0],axis=0) # derivative of theta one\n",
        "        temp_theta_two=np.sum((alpha/m)*(np.dot(x,theta)-y),axis=0)  # derivative of theta two\n",
        "    \n",
        "        theta[0,0]=theta[0,0]- temp_theta_one\n",
        "        theta[1,0]=theta[1,0]-temp_theta_two\n",
        "        \n",
        "    cost=(1/(2*m))* np.sum((np.dot(x,theta)-y)**2,axis=0)\n",
        "    \n",
        "    return [theta,cost]"
      ],
      "execution_count": null,
      "outputs": []
    },
    {
      "cell_type": "code",
      "metadata": {
        "id": "4NXnegugRqN_",
        "outputId": "016cf6ec-8b1f-4e39-a9e0-c9dbe7d6f1c3"
      },
      "source": [
        "result=linear_regressor(x,y,0.01,100)\n",
        "\n",
        "print(\"from function we get theta which gives best fit\")\n",
        "print('theta_one: ',result[0][0])\n",
        "print('theta_one: ',result[0][1])\n",
        "\n",
        "print('cost: ',result[1])"
      ],
      "execution_count": null,
      "outputs": [
        {
          "output_type": "stream",
          "text": [
            "from function we get theta which gives best fit\n",
            "theta_one:  [94.82202599]\n",
            "theta_one:  [6.74232692]\n",
            "cost:  [55.15927969]\n"
          ],
          "name": "stdout"
        }
      ]
    },
    {
      "cell_type": "code",
      "metadata": {
        "id": "7O807BqhRqOD",
        "outputId": "343a8a53-0304-4672-b54a-cd0e7ffb7490"
      },
      "source": [
        "alphas=[0.04,0.03,0.025,0.02,0.015,0.01,0.005,0.004,0.003,0.002,0.001]\n",
        "costs=[]\n",
        "\n",
        "for k in alphas:\n",
        "    costs.append(float(linear_regressor(x,y,k,100)[1]))\n",
        "    \n",
        "plt.plot(alphas,costs)    \n",
        "plt.xlabel('Alpha')\n",
        "plt.ylabel('Cost')\n",
        "plt.title('alpha(learning rate) VS Cost')\n"
      ],
      "execution_count": null,
      "outputs": [
        {
          "output_type": "execute_result",
          "data": {
            "text/plain": [
              "Text(0.5, 1.0, 'alpha(learning rate) VS Cost')"
            ]
          },
          "metadata": {
            "tags": []
          },
          "execution_count": 384
        },
        {
          "output_type": "display_data",
          "data": {
            "image/png": "[encoded data removed]",
            "text/plain": [
              "<Figure size 432x288 with 1 Axes>"
            ]
          },
          "metadata": {
            "tags": [],
            "needs_background": "light"
          }
        }
      ]
    },
    {
      "cell_type": "markdown",
      "metadata": {
        "id": "e0BdtfHARqOU"
      },
      "source": [
        "### from the above plot it can ne inferred that if alpha is very small training stop before reaching global minima  and if alpha is very large we will overshoot global minima. So we must select optimum value of alpha . In our case alpha=0.01 give good result"
      ]
    }
  ]
}